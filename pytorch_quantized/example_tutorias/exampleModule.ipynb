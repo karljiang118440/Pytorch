{
 "cells": [
  {
   "cell_type": "code",
   "execution_count": 11,
   "metadata": {},
   "outputs": [],
   "source": [
    "import torch\n",
    "import torch.nn as nn"
   ]
  },
  {
   "cell_type": "code",
   "execution_count": 12,
   "metadata": {},
   "outputs": [
    {
     "name": "stdout",
     "output_type": "stream",
     "text": [
      "no error\n"
     ]
    }
   ],
   "source": [
    "class exampleModule(nn.Module):\n",
    "    def __init__(self):\n",
    "        super(exampleModule,self).__init__()\n",
    "        self.conv1 = nn.Conv2d(...)\n",
    "        self.conv2 = nn.Conv2d(...)\n",
    "        self.conv3 = nn.Conv2d(...)\n",
    "        self.conv4 = nn.Conv2d(...)\n",
    "        self.quant1 = torch.quantization.QuantStub()\n",
    "        self.dequant1 =  torch.quantization.DeQuantStub()\n",
    "        self.quant2 = torch.quantization.QuantStub()\n",
    "        self.dequant2 = torch.quantization.DeQuantStub()\n",
    "    \n",
    "    print(\"no error\")\n",
    "        "
   ]
  },
  {
   "cell_type": "code",
   "execution_count": 13,
   "metadata": {},
   "outputs": [],
   "source": [
    "    def forward(self,x):\n",
    "        x = self.quant1(x)\n",
    "        x = self.conv1(x)\n",
    "        x = self.conv2(x)\n",
    "        x = self.conv3(x)\n",
    "        x = self.quant2(x)\n",
    "        x = self.conv4(x)\n",
    "        x = self.dequant2(x)\n",
    "            "
   ]
  },
  {
   "cell_type": "code",
   "execution_count": 14,
   "metadata": {},
   "outputs": [],
   "source": [
    "    def main():\n",
    "        test_model = exampleModule()\n",
    "        #spicify quantization configuration for the modules that need to be quantized\n",
    "        test_model.conv1.qconfig = torch.quantization.default_qconfig\n",
    "        test_model.conv4.qconfig = torch.quantization.default_qconfig\n",
    "        test_model.quant1.qconfig = torch.quantization.default_qconfig\n",
    "        test_model.quant2.qconfig = torch.quantization.default_qconfig\n",
    "        \n",
    "        #call prepare and convert \n",
    "        torch.quantization.prepare(test_model)\n",
    "        calibrate(q_model)\n",
    "        torch.quantization.convert(q_model)"
   ]
  },
  {
   "cell_type": "code",
   "execution_count": null,
   "metadata": {},
   "outputs": [],
   "source": []
  },
  {
   "cell_type": "code",
   "execution_count": null,
   "metadata": {},
   "outputs": [],
   "source": []
  }
 ],
 "metadata": {
  "kernelspec": {
   "display_name": "Python 3",
   "language": "python",
   "name": "python3"
  },
  "language_info": {
   "codemirror_mode": {
    "name": "ipython",
    "version": 3
   },
   "file_extension": ".py",
   "mimetype": "text/x-python",
   "name": "python",
   "nbconvert_exporter": "python",
   "pygments_lexer": "ipython3",
   "version": "3.6.12"
  }
 },
 "nbformat": 4,
 "nbformat_minor": 4
}
